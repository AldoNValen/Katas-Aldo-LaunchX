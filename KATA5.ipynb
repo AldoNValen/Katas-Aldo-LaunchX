{
 "cells": [
  {
   "cell_type": "markdown",
   "metadata": {},
   "source": [
    "# Ejercicio 1"
   ]
  },
  {
   "cell_type": "code",
   "execution_count": 1,
   "metadata": {},
   "outputs": [
    {
     "name": "stdout",
     "output_type": "stream",
     "text": [
      "628949330\n",
      "390577533.93\n"
     ]
    }
   ],
   "source": [
    "#creando variable\n",
    "intTierra=149597870\n",
    "intJupiter=778547200\n",
    "\n",
    "#calcular distancia\n",
    "distanciaKM=intJupiter - intTierra\n",
    "\n",
    "print(distanciaKM)\n",
    "\n",
    "distanciaM=distanciaKM * .621\n",
    "\n",
    "print(distanciaM)\n",
    "\n"
   ]
  },
  {
   "cell_type": "markdown",
   "metadata": {},
   "source": [
    "# ejercicio 2"
   ]
  },
  {
   "cell_type": "code",
   "execution_count": 5,
   "metadata": {},
   "outputs": [
    {
     "name": "stdout",
     "output_type": "stream",
     "text": [
      "distancia en km: -480\n",
      "distancia absoluta:298.08\n"
     ]
    }
   ],
   "source": [
    "# Almacenar las entradas del usuario\n",
    "intPlaneta = input('ingresa la distancia del sol para el primer planeta en KM')\n",
    "intPlaneta2 = input('ingresa la distancia desde el sol para el segundo planeta en KM')\n",
    "\n",
    "# Convierte las cadenas de ambos planetas a números enteros\n",
    "intPlaneta = int(intPlaneta)\n",
    "intPlaneta2 = int(intPlaneta2)\n",
    "\n",
    "# Realizar el cálculo y determinar el valor absoluto\n",
    "distance_km = intPlaneta2 - intPlaneta\n",
    "print('distancia en km: ' + str(distance_km))\n",
    "\n",
    "# Convertir de KM a Millas\n",
    "distance_mi = distance_km * 0.621\n",
    "print('distancia absoluta:' + str(abs(distance_mi)))"
   ]
  }
 ],
 "metadata": {
  "interpreter": {
   "hash": "b44586ac79ed68633bcdfb2a8396b8b7a81c066359cec92509885b9cfb1ae4e2"
  },
  "kernelspec": {
   "display_name": "Python 3.10.2 64-bit",
   "language": "python",
   "name": "python3"
  },
  "language_info": {
   "codemirror_mode": {
    "name": "ipython",
    "version": 3
   },
   "file_extension": ".py",
   "mimetype": "text/x-python",
   "name": "python",
   "nbconvert_exporter": "python",
   "pygments_lexer": "ipython3",
   "version": "3.10.2"
  },
  "orig_nbformat": 4
 },
 "nbformat": 4,
 "nbformat_minor": 2
}
