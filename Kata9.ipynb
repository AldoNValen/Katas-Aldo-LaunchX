{
 "cells": [
  {
   "cell_type": "code",
   "execution_count": null,
   "metadata": {},
   "outputs": [],
   "source": []
  },
  {
   "cell_type": "markdown",
   "metadata": {},
   "source": [
    "# Ejercicio 1"
   ]
  },
  {
   "cell_type": "code",
   "execution_count": 3,
   "metadata": {},
   "outputs": [
    {
     "name": "stdout",
     "output_type": "stream",
     "text": [
      "Fuel Report:\n",
      "    Total Average: 66.66666666666667%\n",
      "    Main tank: 50%\n",
      "    External tank: 60%\n",
      "    Hydrogen tank: 90% \n",
      "    \n",
      "Fuel Report:\n",
      "    Total Average: 66.66666666666667%\n",
      "    Main tank: 50%\n",
      "    External tank: 60%\n",
      "    Hydrogen tank: 90% \n",
      "    \n"
     ]
    }
   ],
   "source": [
    "def promedioTanques(t1,t2,t3):\n",
    "    Promedio=(t1+t2+t3)/3\n",
    "    return f\"\"\"Fuel Report:\n",
    "    Total Average: {Promedio}%\n",
    "    Main tank: {t1}%\n",
    "    External tank: {t2}%\n",
    "    Hydrogen tank: {t3}% \n",
    "    \"\"\"\n",
    "\n",
    "#se imprime resultado d ela funcion\n",
    "print(promedioTanques(50, 60, 90))\n",
    "\n",
    "\n",
    "# se obtiene el proimedio de manera independiente\n",
    "def promedioIndependiente(values):\n",
    "    total=sum(values)\n",
    "    totalIngresado=len(values)\n",
    "    return total /totalIngresado\n",
    "\n",
    "promedioIndependiente([50, 60, 90]) \n",
    "\n",
    "\n",
    "# se actualiza la funcion principal\n",
    "def promedioTanques(t1,t2,t3):\n",
    "   # Promedio=(t1+t2+t3)/3\n",
    "    return f\"\"\"Fuel Report:\n",
    "    Total Average: {promedioIndependiente([50, 60, 90])}%\n",
    "    Main tank: {t1}%\n",
    "    External tank: {t2}%\n",
    "    Hydrogen tank: {t3}% \n",
    "    \"\"\"\n",
    "print(promedioTanques(50, 60, 90))\n",
    "\n",
    "\n"
   ]
  },
  {
   "cell_type": "markdown",
   "metadata": {},
   "source": [
    "# Ejercicio 2"
   ]
  },
  {
   "cell_type": "code",
   "execution_count": 6,
   "metadata": {},
   "outputs": [
    {
     "name": "stdout",
     "output_type": "stream",
     "text": [
      "\n",
      "    Mission to Moon\n",
      "    Total travel time: 69 minutes\n",
      "    Total fuel left: 500000 gallons\n",
      "    \n",
      "\n",
      "    Mission to Moon\n",
      "    Total travel time: 55 minutes\n",
      "    Total fuel left: 500000\n",
      "    \n",
      "\n",
      "    Mission to Moon\n",
      "    Total travel time: 55 minutes\n",
      "    Total fuel left: 500000\n",
      "    main tank --> 200000 gallons left\n",
      "external tank --> 300000 gallons left\n",
      "\n"
     ]
    }
   ],
   "source": [
    "# Función con un informe preciso de la misión. Considera hora de prelanzamiento, tiempo de vuelo, destino, tanque externo y tanque interno\n",
    "def reporte(prelan, tiempoVuelo, destino, tanqueExterno, tanqueInterno):\n",
    "    return f\"\"\"\n",
    "    Mission to {destino}\n",
    "    Total travel time: {prelan + tiempoVuelo} minutes\n",
    "    Total fuel left: {tanqueExterno + tanqueInterno} gallons\n",
    "    \"\"\"\n",
    "\n",
    "print(reporte(12, 57, \"Moon\", 300000, 200000))\n",
    "\n",
    "# Escribe tu nueva función de reporte considerando lo anterior\n",
    "def reporte(destino, *minutes, **fuel_reservoirs):\n",
    "    return f\"\"\"\n",
    "    Mission to {destino}\n",
    "    Total travel time: {sum(minutes)} minutes\n",
    "    Total fuel left: {sum(fuel_reservoirs.values())}\n",
    "    \"\"\"\n",
    "\n",
    "print(reporte(\"Moon\", 5, 20, 30, main=200000, external=300000))\n",
    "\n",
    "# Escribe tu nueva función\n",
    "def reporte(destino, *minutes, **fuel_reservoirs):\n",
    "    main_report = f\"\"\"\n",
    "    Mission to {destino}\n",
    "    Total travel time: {sum(minutes)} minutes\n",
    "    Total fuel left: {sum(fuel_reservoirs.values())}\n",
    "    \"\"\"\n",
    "    for tank_name, gallons in fuel_reservoirs.items():\n",
    "        main_report += f\"{tank_name} tank --> {gallons} gallons left\\n\"\n",
    "    return main_report\n",
    "\n",
    "print(reporte(\"Moon\", 5, 20, 30, main=200000, external=300000))"
   ]
  }
 ],
 "metadata": {
  "interpreter": {
   "hash": "b44586ac79ed68633bcdfb2a8396b8b7a81c066359cec92509885b9cfb1ae4e2"
  },
  "kernelspec": {
   "display_name": "Python 3.10.2 64-bit",
   "language": "python",
   "name": "python3"
  },
  "language_info": {
   "codemirror_mode": {
    "name": "ipython",
    "version": 3
   },
   "file_extension": ".py",
   "mimetype": "text/x-python",
   "name": "python",
   "nbconvert_exporter": "python",
   "pygments_lexer": "ipython3",
   "version": "3.10.2"
  },
  "orig_nbformat": 4
 },
 "nbformat": 4,
 "nbformat_minor": 2
}
